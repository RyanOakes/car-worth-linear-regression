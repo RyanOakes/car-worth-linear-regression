{
 "cells": [
  {
   "cell_type": "code",
   "execution_count": 35,
   "metadata": {
    "collapsed": true
   },
   "outputs": [],
   "source": [
    "import pandas as pd\n",
    "import matplotlib.pyplot as plt\n",
    "import numpy as np\n",
    "import sklearn\n",
    "from sklearn import linear_model\n",
    "import itertools\n",
    "\n",
    "%matplotlib inline"
   ]
  },
  {
   "cell_type": "markdown",
   "metadata": {},
   "source": [
    "# How Much is Your Car Worth?\n",
    "\n",
    "Data about the retail price of 2005 General Motors cars can be found in `car_data.csv`.\n",
    "\n",
    "The columns are:\n",
    "\n",
    "1. Price: suggested retail price of the used 2005 GM car in excellent condition.\n",
    "2. Mileage: number of miles the car has been driven\n",
    "3. Make: manufacturer of the car such as Saturn, Pontiac, and Chevrolet\n",
    "4. Model: specific models for each car manufacturer such as Ion, Vibe, Cavalier\n",
    "5. Trim (of car): specific type of car model such as SE Sedan 4D, Quad Coupe 2D          \n",
    "6. Type: body type such as sedan, coupe, etc.      \n",
    "7. Cylinder: number of cylinders in the engine        \n",
    "8. Liter: a more specific measure of engine size     \n",
    "9. Doors: number of doors           \n",
    "10. Cruise: indicator variable representing whether the car has cruise control (1 = cruise)\n",
    "11. Sound: indicator variable representing whether the car has upgraded speakers (1 = upgraded)\n",
    "12. Leather: indicator variable representing whether the car has leather seats (1 = leather)\n",
    "\n",
    "## Tasks, Part 1\n",
    "\n",
    "1. Find the linear regression equation for mileage vs price.\n",
    "2. Chart the original data and the equation on the chart.\n",
    "3. Find the equation's $R^2$ score (use the `.score` method) to determine whether the\n",
    "equation is a good fit for this data. (0.8 and greater is considered a strong correlation.)\n",
    "\n",
    "## Tasks, Part 2\n",
    "\n",
    "1. Use mileage, cylinders, liters, doors, cruise, sound, and leather to find the linear regression equation.\n",
    "2. Find the equation's $R^2$ score (use the `.score` method) to determine whether the\n",
    "equation is a good fit for this data. (0.8 and greater is considered a strong correlation.)\n",
    "3. Find the combination of the factors that is the best predictor for price.\n",
    "\n",
    "## Tasks, Part 3\n",
    "\n",
    "1. Research dummy variables in scikit-learn to see how to use the make, model, and body type.\n",
    "2. Find the best combination of factors to predict price."
   ]
  },
  {
   "cell_type": "code",
   "execution_count": null,
   "metadata": {
    "collapsed": true
   },
   "outputs": [],
   "source": []
  },
  {
   "cell_type": "markdown",
   "metadata": {},
   "source": [
    "# Task 1"
   ]
  },
  {
   "cell_type": "code",
   "execution_count": 59,
   "metadata": {
    "collapsed": false
   },
   "outputs": [
    {
     "data": {
      "text/html": [
       "<div>\n",
       "<table border=\"1\" class=\"dataframe\">\n",
       "  <thead>\n",
       "    <tr style=\"text-align: right;\">\n",
       "      <th></th>\n",
       "      <th>Price</th>\n",
       "      <th>Mileage</th>\n",
       "      <th>Make</th>\n",
       "      <th>Model</th>\n",
       "      <th>Trim</th>\n",
       "      <th>Type</th>\n",
       "      <th>Cylinder</th>\n",
       "      <th>Liter</th>\n",
       "      <th>Doors</th>\n",
       "      <th>Cruise</th>\n",
       "      <th>Sound</th>\n",
       "      <th>Leather</th>\n",
       "    </tr>\n",
       "  </thead>\n",
       "  <tbody>\n",
       "    <tr>\n",
       "      <th>0</th>\n",
       "      <td>17314.103129</td>\n",
       "      <td>8221</td>\n",
       "      <td>Buick</td>\n",
       "      <td>Century</td>\n",
       "      <td>Sedan 4D</td>\n",
       "      <td>Sedan</td>\n",
       "      <td>6</td>\n",
       "      <td>3.1</td>\n",
       "      <td>4</td>\n",
       "      <td>1</td>\n",
       "      <td>1</td>\n",
       "      <td>1</td>\n",
       "    </tr>\n",
       "    <tr>\n",
       "      <th>1</th>\n",
       "      <td>17542.036083</td>\n",
       "      <td>9135</td>\n",
       "      <td>Buick</td>\n",
       "      <td>Century</td>\n",
       "      <td>Sedan 4D</td>\n",
       "      <td>Sedan</td>\n",
       "      <td>6</td>\n",
       "      <td>3.1</td>\n",
       "      <td>4</td>\n",
       "      <td>1</td>\n",
       "      <td>1</td>\n",
       "      <td>0</td>\n",
       "    </tr>\n",
       "    <tr>\n",
       "      <th>2</th>\n",
       "      <td>16218.847862</td>\n",
       "      <td>13196</td>\n",
       "      <td>Buick</td>\n",
       "      <td>Century</td>\n",
       "      <td>Sedan 4D</td>\n",
       "      <td>Sedan</td>\n",
       "      <td>6</td>\n",
       "      <td>3.1</td>\n",
       "      <td>4</td>\n",
       "      <td>1</td>\n",
       "      <td>1</td>\n",
       "      <td>0</td>\n",
       "    </tr>\n",
       "    <tr>\n",
       "      <th>3</th>\n",
       "      <td>16336.913140</td>\n",
       "      <td>16342</td>\n",
       "      <td>Buick</td>\n",
       "      <td>Century</td>\n",
       "      <td>Sedan 4D</td>\n",
       "      <td>Sedan</td>\n",
       "      <td>6</td>\n",
       "      <td>3.1</td>\n",
       "      <td>4</td>\n",
       "      <td>1</td>\n",
       "      <td>0</td>\n",
       "      <td>0</td>\n",
       "    </tr>\n",
       "    <tr>\n",
       "      <th>4</th>\n",
       "      <td>16339.170324</td>\n",
       "      <td>19832</td>\n",
       "      <td>Buick</td>\n",
       "      <td>Century</td>\n",
       "      <td>Sedan 4D</td>\n",
       "      <td>Sedan</td>\n",
       "      <td>6</td>\n",
       "      <td>3.1</td>\n",
       "      <td>4</td>\n",
       "      <td>1</td>\n",
       "      <td>0</td>\n",
       "      <td>1</td>\n",
       "    </tr>\n",
       "  </tbody>\n",
       "</table>\n",
       "</div>"
      ],
      "text/plain": [
       "          Price  Mileage   Make    Model      Trim   Type  Cylinder  Liter  \\\n",
       "0  17314.103129     8221  Buick  Century  Sedan 4D  Sedan         6    3.1   \n",
       "1  17542.036083     9135  Buick  Century  Sedan 4D  Sedan         6    3.1   \n",
       "2  16218.847862    13196  Buick  Century  Sedan 4D  Sedan         6    3.1   \n",
       "3  16336.913140    16342  Buick  Century  Sedan 4D  Sedan         6    3.1   \n",
       "4  16339.170324    19832  Buick  Century  Sedan 4D  Sedan         6    3.1   \n",
       "\n",
       "   Doors  Cruise  Sound  Leather  \n",
       "0      4       1      1        1  \n",
       "1      4       1      1        0  \n",
       "2      4       1      1        0  \n",
       "3      4       1      0        0  \n",
       "4      4       1      0        1  "
      ]
     },
     "execution_count": 59,
     "metadata": {},
     "output_type": "execute_result"
    }
   ],
   "source": [
    "cars_df = pd.read_csv(\"car_data.csv\")\n",
    "cars_df.head(5)"
   ]
  },
  {
   "cell_type": "markdown",
   "metadata": {},
   "source": [
    "## Import data using 'usecols' to pick relevant columns"
   ]
  },
  {
   "cell_type": "code",
   "execution_count": 37,
   "metadata": {
    "collapsed": true
   },
   "outputs": [],
   "source": [
    "miles_price = [0, 1]\n",
    "mileage = pd.read_csv(\"car_data.csv\", usecols=miles_price)"
   ]
  },
  {
   "cell_type": "markdown",
   "metadata": {},
   "source": [
    "## Print sample of data"
   ]
  },
  {
   "cell_type": "code",
   "execution_count": 38,
   "metadata": {
    "collapsed": false
   },
   "outputs": [
    {
     "data": {
      "text/html": [
       "<div>\n",
       "<table border=\"1\" class=\"dataframe\">\n",
       "  <thead>\n",
       "    <tr style=\"text-align: right;\">\n",
       "      <th></th>\n",
       "      <th>Price</th>\n",
       "      <th>Mileage</th>\n",
       "    </tr>\n",
       "  </thead>\n",
       "  <tbody>\n",
       "    <tr>\n",
       "      <th>0</th>\n",
       "      <td>17314.103129</td>\n",
       "      <td>8221</td>\n",
       "    </tr>\n",
       "    <tr>\n",
       "      <th>1</th>\n",
       "      <td>17542.036083</td>\n",
       "      <td>9135</td>\n",
       "    </tr>\n",
       "    <tr>\n",
       "      <th>2</th>\n",
       "      <td>16218.847862</td>\n",
       "      <td>13196</td>\n",
       "    </tr>\n",
       "    <tr>\n",
       "      <th>3</th>\n",
       "      <td>16336.913140</td>\n",
       "      <td>16342</td>\n",
       "    </tr>\n",
       "    <tr>\n",
       "      <th>4</th>\n",
       "      <td>16339.170324</td>\n",
       "      <td>19832</td>\n",
       "    </tr>\n",
       "  </tbody>\n",
       "</table>\n",
       "</div>"
      ],
      "text/plain": [
       "          Price  Mileage\n",
       "0  17314.103129     8221\n",
       "1  17542.036083     9135\n",
       "2  16218.847862    13196\n",
       "3  16336.913140    16342\n",
       "4  16339.170324    19832"
      ]
     },
     "execution_count": 38,
     "metadata": {},
     "output_type": "execute_result"
    }
   ],
   "source": [
    "mileage.head(5)"
   ]
  },
  {
   "cell_type": "markdown",
   "metadata": {},
   "source": [
    "## Create linear object and reshape/rename x and y-axis"
   ]
  },
  {
   "cell_type": "code",
   "execution_count": 39,
   "metadata": {
    "collapsed": false
   },
   "outputs": [],
   "source": [
    "mileage_linear = sklearn.linear_model.LinearRegression()"
   ]
  },
  {
   "cell_type": "code",
   "execution_count": 40,
   "metadata": {
    "collapsed": true
   },
   "outputs": [],
   "source": [
    "x = mileage['Mileage'].reshape(-1,1)"
   ]
  },
  {
   "cell_type": "code",
   "execution_count": 41,
   "metadata": {
    "collapsed": true
   },
   "outputs": [],
   "source": [
    "y = mileage['Price'].reshape(-1,1)"
   ]
  },
  {
   "cell_type": "markdown",
   "metadata": {},
   "source": [
    "## Fit data into linear object"
   ]
  },
  {
   "cell_type": "code",
   "execution_count": 42,
   "metadata": {
    "collapsed": false
   },
   "outputs": [
    {
     "data": {
      "text/plain": [
       "LinearRegression(copy_X=True, fit_intercept=True, n_jobs=1, normalize=False)"
      ]
     },
     "execution_count": 42,
     "metadata": {},
     "output_type": "execute_result"
    }
   ],
   "source": [
    "mileage_linear.fit(x, y)"
   ]
  },
  {
   "cell_type": "markdown",
   "metadata": {},
   "source": [
    "## Graph to compare mileage and price and showcase linear regression"
   ]
  },
  {
   "cell_type": "code",
   "execution_count": 43,
   "metadata": {
    "collapsed": false
   },
   "outputs": [
    {
     "data": {
      "text/plain": [
       "0.020463447323489481"
      ]
     },
     "execution_count": 43,
     "metadata": {},
     "output_type": "execute_result"
    }
   ],
   "source": [
    "mileage_linear.score(x, y)"
   ]
  },
  {
   "cell_type": "code",
   "execution_count": 44,
   "metadata": {
    "collapsed": false
   },
   "outputs": [
    {
     "data": {
      "text/plain": [
       "[<matplotlib.lines.Line2D at 0x10a8115f8>]"
      ]
     },
     "execution_count": 44,
     "metadata": {},
     "output_type": "execute_result"
    },
    {
     "data": {
      "image/png": "[encoded data removed]",
      "text/plain": [
       "<matplotlib.figure.Figure at 0x10a8116a0>"
      ]
     },
     "metadata": {},
     "output_type": "display_data"
    }
   ],
   "source": [
    "plt.scatter(x, y)\n",
    "plt.xlabel(\"Mileage\")\n",
    "plt.ylabel(\"Price\")\n",
    "\n",
    "plt.plot(x, mileage_linear.predict(x), color='red')\n"
   ]
  },
  {
   "cell_type": "markdown",
   "metadata": {},
   "source": [
    "## Very weak correlation - mileage is a pretty poor indicator of price. "
   ]
  },
  {
   "cell_type": "code",
   "execution_count": 45,
   "metadata": {
    "collapsed": false
   },
   "outputs": [
    {
     "name": "stdout",
     "output_type": "stream",
     "text": [
      "Score: 0.0204634473235\n"
     ]
    }
   ],
   "source": [
    "print('Score:', mileage_linear.score(x, y))"
   ]
  },
  {
   "cell_type": "code",
   "execution_count": null,
   "metadata": {
    "collapsed": true
   },
   "outputs": [],
   "source": []
  },
  {
   "cell_type": "markdown",
   "metadata": {},
   "source": [
    "## Task 2"
   ]
  },
  {
   "cell_type": "markdown",
   "metadata": {
    "collapsed": false
   },
   "source": [
    "## Import data and create linear regression object"
   ]
  },
  {
   "cell_type": "code",
   "execution_count": 46,
   "metadata": {
    "collapsed": false
   },
   "outputs": [],
   "source": [
    "columns = [0, 1, 6, 7, 8, 9, 10, 11]\n",
    "task_2 = pd.read_csv(\"car_data.csv\", usecols=columns)\n",
    "\n",
    "columns = [1, 6, 7, 8, 9, 10, 11]\n",
    "combo = pd.read_csv(\"car_data.csv\", usecols=columns)"
   ]
  },
  {
   "cell_type": "code",
   "execution_count": 47,
   "metadata": {
    "collapsed": false
   },
   "outputs": [],
   "source": [
    "cars_linear = sklearn.linear_model.LinearRegression()\n",
    "\n",
    "# cars_linear = sklearn.linear_model.LinearRegression()\n",
    "# cylinder_linear = sklearn.linear_model.LinearRegression()\n",
    "# liter_linear = sklearn.linear_model.LinearRegression()\n",
    "# doors_linear = sklearn.linear_model.LinearRegression()\n",
    "# sound_linear = sklearn.linear_model.LinearRegression()\n",
    "# leather_linear = sklearn.linear_model.LinearRegression()\n",
    "# cruise_linear = sklearn.linear_model.LinearRegression()"
   ]
  },
  {
   "cell_type": "code",
   "execution_count": null,
   "metadata": {
    "collapsed": false
   },
   "outputs": [],
   "source": []
  },
  {
   "cell_type": "markdown",
   "metadata": {},
   "source": [
    "## Create x,y variables and fit into linear object"
   ]
  },
  {
   "cell_type": "code",
   "execution_count": 48,
   "metadata": {
    "collapsed": true
   },
   "outputs": [],
   "source": [
    "x = task_2[['Mileage', 'Cylinder', 'Liter', 'Doors', 'Sound', 'Leather', 'Cruise']] "
   ]
  },
  {
   "cell_type": "code",
   "execution_count": 49,
   "metadata": {
    "collapsed": true
   },
   "outputs": [],
   "source": [
    "y = task_2[['Price']]"
   ]
  },
  {
   "cell_type": "code",
   "execution_count": 50,
   "metadata": {
    "collapsed": false
   },
   "outputs": [
    {
     "data": {
      "text/plain": [
       "LinearRegression(copy_X=True, fit_intercept=True, n_jobs=1, normalize=False)"
      ]
     },
     "execution_count": 50,
     "metadata": {},
     "output_type": "execute_result"
    }
   ],
   "source": [
    "cars_linear.fit(task_2[['Mileage', 'Cylinder', 'Liter', 'Doors', 'Sound', 'Leather', 'Cruise']], task_2[['Price']])"
   ]
  },
  {
   "cell_type": "markdown",
   "metadata": {},
   "source": [
    "## Showcase coefficient and interecept figures"
   ]
  },
  {
   "cell_type": "code",
   "execution_count": 51,
   "metadata": {
    "collapsed": false
   },
   "outputs": [
    {
     "data": {
      "text/plain": [
       "array([[ -1.69747832e-01,   3.79237893e+03,  -7.87220732e+02,\n",
       "         -1.54274585e+03,  -1.99379528e+03,   3.34936162e+03,\n",
       "          6.28899715e+03]])"
      ]
     },
     "execution_count": 51,
     "metadata": {},
     "output_type": "execute_result"
    }
   ],
   "source": [
    "cars_linear.coef_"
   ]
  },
  {
   "cell_type": "code",
   "execution_count": 52,
   "metadata": {
    "collapsed": false
   },
   "outputs": [
    {
     "data": {
      "text/plain": [
       "array([ 6758.7551436])"
      ]
     },
     "execution_count": 52,
     "metadata": {},
     "output_type": "execute_result"
    }
   ],
   "source": [
    "cars_linear.intercept_"
   ]
  },
  {
   "cell_type": "markdown",
   "metadata": {},
   "source": [
    "## R2 score is .44, showing moderate correlation strength. "
   ]
  },
  {
   "cell_type": "code",
   "execution_count": 53,
   "metadata": {
    "collapsed": false
   },
   "outputs": [
    {
     "data": {
      "text/plain": [
       "0.44626435367283801"
      ]
     },
     "execution_count": 53,
     "metadata": {},
     "output_type": "execute_result"
    }
   ],
   "source": [
    "cars_linear.score(x, y)"
   ]
  },
  {
   "cell_type": "code",
   "execution_count": null,
   "metadata": {
    "collapsed": false
   },
   "outputs": [],
   "source": []
  },
  {
   "cell_type": "markdown",
   "metadata": {},
   "source": [
    "## Find combination of factors that determine the most accurate price"
   ]
  },
  {
   "cell_type": "code",
   "execution_count": null,
   "metadata": {
    "collapsed": false
   },
   "outputs": [],
   "source": []
  },
  {
   "cell_type": "code",
   "execution_count": 54,
   "metadata": {
    "collapsed": false
   },
   "outputs": [
    {
     "data": {
      "text/plain": [
       "[(0.4456909210587025,\n",
       "  ['Mileage', 'Cylinder', 'Doors', 'Cruise', 'Sound', 'Leather']),\n",
       " (0.43780574153663798,\n",
       "  ['Mileage', 'Cylinder', 'Liter', 'Doors', 'Cruise', 'Leather']),\n",
       " (0.43694021512372461, ['Mileage', 'Cylinder', 'Doors', 'Cruise', 'Leather']),\n",
       " (0.43014148406475605,\n",
       "  ['Mileage', 'Cylinder', 'Liter', 'Cruise', 'Sound', 'Leather']),\n",
       " (0.43001820483252684, ['Mileage', 'Cylinder', 'Cruise', 'Sound', 'Leather']),\n",
       " (0.42653486378092642,\n",
       "  ['Cylinder', 'Liter', 'Doors', 'Cruise', 'Sound', 'Leather']),\n",
       " (0.42576813279744219, ['Cylinder', 'Doors', 'Cruise', 'Sound', 'Leather']),\n",
       " (0.42482840454267856,\n",
       "  ['Mileage', 'Liter', 'Doors', 'Cruise', 'Sound', 'Leather']),\n",
       " (0.42441824017998753,\n",
       "  ['Mileage', 'Cylinder', 'Liter', 'Doors', 'Cruise', 'Sound']),\n",
       " (0.42409748258510405, ['Mileage', 'Cylinder', 'Doors', 'Cruise', 'Sound']),\n",
       " (0.42253076703984671, ['Mileage', 'Cylinder', 'Liter', 'Cruise', 'Leather']),\n",
       " (0.42250742147747622, ['Mileage', 'Cylinder', 'Cruise', 'Leather']),\n",
       " (0.41965804777032434, ['Mileage', 'Cylinder', 'Liter', 'Doors', 'Cruise']),\n",
       " (0.41914964510731756, ['Mileage', 'Cylinder', 'Doors', 'Cruise']),\n",
       " (0.41883942180571321, ['Cylinder', 'Liter', 'Doors', 'Cruise', 'Leather']),\n",
       " (0.417760273701972, ['Cylinder', 'Doors', 'Cruise', 'Leather']),\n",
       " (0.41650804904235106, ['Mileage', 'Liter', 'Cruise', 'Sound', 'Leather']),\n",
       " (0.41400922316303501, ['Mileage', 'Liter', 'Doors', 'Cruise', 'Leather']),\n",
       " (0.41070295264410439, ['Cylinder', 'Liter', 'Cruise', 'Sound', 'Leather']),\n",
       " (0.41065494158588833, ['Cylinder', 'Cruise', 'Sound', 'Leather']),\n",
       " (0.40678789687026895, ['Mileage', 'Liter', 'Cruise', 'Leather']),\n",
       " (0.40654915865835195, ['Mileage', 'Cylinder', 'Liter', 'Cruise', 'Sound']),\n",
       " (0.40616449826258139, ['Mileage', 'Cylinder', 'Cruise', 'Sound']),\n",
       " (0.40509275150578539, ['Cylinder', 'Liter', 'Doors', 'Cruise', 'Sound']),\n",
       " (0.40462307098659855, ['Cylinder', 'Doors', 'Cruise', 'Sound']),\n",
       " (0.40380376425767606, ['Cylinder', 'Liter', 'Cruise', 'Leather']),\n",
       " (0.40380272693971553, ['Cylinder', 'Cruise', 'Leather']),\n",
       " (0.40346337208358074, ['Liter', 'Doors', 'Cruise', 'Sound', 'Leather']),\n",
       " (0.40312131702115361, ['Mileage', 'Liter', 'Doors', 'Cruise', 'Sound']),\n",
       " (0.40258426189243079, ['Mileage', 'Cylinder', 'Liter', 'Cruise']),\n",
       " (0.40237458603160192, ['Mileage', 'Cylinder', 'Cruise']),\n",
       " (0.40087486932703031, ['Cylinder', 'Liter', 'Doors', 'Cruise']),\n",
       " (0.4001989079545567, ['Cylinder', 'Doors', 'Cruise']),\n",
       " (0.39653266980131807, ['Mileage', 'Liter', 'Doors', 'Cruise']),\n",
       " (0.39564260736568424, ['Liter', 'Cruise', 'Sound', 'Leather']),\n",
       " (0.39346849142215845, ['Mileage', 'Liter', 'Cruise', 'Sound']),\n",
       " (0.39345887351036213, ['Liter', 'Doors', 'Cruise', 'Leather']),\n",
       " (0.38792398390551597, ['Mileage', 'Liter', 'Cruise']),\n",
       " (0.38754312167360194, ['Cylinder', 'Liter', 'Cruise', 'Sound']),\n",
       " (0.38730580222964561, ['Cylinder', 'Cruise', 'Sound']),\n",
       " (0.38665505937731115, ['Liter', 'Cruise', 'Leather']),\n",
       " (0.38406220085245035, ['Cylinder', 'Liter', 'Cruise']),\n",
       " (0.38394913240273443, ['Cylinder', 'Cruise']),\n",
       " (0.38271504500215792,\n",
       "  ['Mileage', 'Cylinder', 'Liter', 'Doors', 'Sound', 'Leather']),\n",
       " (0.38258521179336924, ['Mileage', 'Cylinder', 'Doors', 'Sound', 'Leather']),\n",
       " (0.38218087776588228, ['Liter', 'Doors', 'Cruise', 'Sound']),\n",
       " (0.37619168053479679, ['Liter', 'Doors', 'Cruise']),\n",
       " (0.37307455961414582, ['Liter', 'Cruise', 'Sound']),\n",
       " (0.37136690890240676, ['Mileage', 'Cylinder', 'Liter', 'Doors', 'Leather']),\n",
       " (0.37133199838451947, ['Mileage', 'Cylinder', 'Doors', 'Leather']),\n",
       " (0.36804584902968451, ['Liter', 'Cruise']),\n",
       " (0.36771522262682865, ['Mileage', 'Cylinder', 'Liter', 'Doors', 'Sound']),\n",
       " (0.36749912969736809, ['Mileage', 'Cylinder', 'Doors', 'Sound']),\n",
       " (0.36529423283997198, ['Mileage', 'Cylinder', 'Liter', 'Sound', 'Leather']),\n",
       " (0.36516944395094464, ['Cylinder', 'Liter', 'Doors', 'Sound', 'Leather']),\n",
       " (0.36511700356207033, ['Cylinder', 'Doors', 'Sound', 'Leather']),\n",
       " (0.36329101174690714, ['Mileage', 'Liter', 'Doors', 'Sound', 'Leather']),\n",
       " (0.36278410378592452, ['Mileage', 'Cylinder', 'Sound', 'Leather']),\n",
       " (0.36012506330270921, ['Mileage', 'Cylinder', 'Liter', 'Doors']),\n",
       " (0.36002991896493031, ['Mileage', 'Cylinder', 'Doors']),\n",
       " (0.35494044305575101, ['Mileage', 'Cylinder', 'Liter', 'Leather']),\n",
       " (0.3547068894092531, ['Cylinder', 'Liter', 'Doors', 'Leather']),\n",
       " (0.35470261300089978, ['Cylinder', 'Doors', 'Leather']),\n",
       " (0.35363153818528137, ['Mileage', 'Liter', 'Sound', 'Leather']),\n",
       " (0.35303578931823965, ['Mileage', 'Cylinder', 'Leather']),\n",
       " (0.35038121816111245, ['Cylinder', 'Liter', 'Doors', 'Sound']),\n",
       " (0.3502699330133765, ['Cylinder', 'Doors', 'Sound']),\n",
       " (0.34940517971815865, ['Mileage', 'Liter', 'Doors', 'Leather']),\n",
       " (0.34885465224422074, ['Mileage', 'Cylinder', 'Liter', 'Sound']),\n",
       " (0.34830222786670784, ['Mileage', 'Liter', 'Doors', 'Sound']),\n",
       " (0.34805583937456308, ['Cylinder', 'Liter', 'Sound', 'Leather']),\n",
       " (0.34598533275416798, ['Cylinder', 'Sound', 'Leather']),\n",
       " (0.34579303945195394, ['Mileage', 'Cylinder', 'Sound']),\n",
       " (0.34423975807564111, ['Liter', 'Doors', 'Sound', 'Leather']),\n",
       " (0.34349547806895953, ['Cylinder', 'Liter', 'Doors']),\n",
       " (0.34346053658303799, ['Cylinder', 'Doors']),\n",
       " (0.34228021178720813, ['Mileage', 'Cylinder', 'Liter']),\n",
       " (0.34105691618639966, ['Mileage', 'Liter', 'Leather']),\n",
       " (0.33982070826367505, ['Mileage', 'Cylinder']),\n",
       " (0.33859102766485805, ['Mileage', 'Liter', 'Doors']),\n",
       " (0.33853269361625415, ['Cylinder', 'Liter', 'Leather']),\n",
       " (0.33752524526419547, ['Mileage', 'Liter', 'Sound']),\n",
       " (0.33698000644980575, ['Cylinder', 'Leather']),\n",
       " (0.33511407076463451, ['Liter', 'Sound', 'Leather']),\n",
       " (0.33184860453157139, ['Cylinder', 'Liter', 'Sound']),\n",
       " (0.33128445385290362, ['Liter', 'Doors', 'Leather']),\n",
       " (0.32947196699054004, ['Liter', 'Doors', 'Sound']),\n",
       " (0.32927527347959384, ['Cylinder', 'Sound']),\n",
       " (0.32912790668541569, ['Mileage', 'Liter']),\n",
       " (0.32591551601566593, ['Cylinder', 'Liter']),\n",
       " (0.32385903759512258, ['Cylinder']),\n",
       " (0.32337917189904186, ['Liter', 'Leather']),\n",
       " (0.32051564077668337, ['Liter', 'Doors']),\n",
       " (0.31926427639502897, ['Liter', 'Sound']),\n",
       " (0.31152674427904514, ['Liter']),\n",
       " (0.27282594767567803, ['Mileage', 'Doors', 'Cruise', 'Sound', 'Leather']),\n",
       " (0.25940138565675619, ['Mileage', 'Cruise', 'Sound', 'Leather']),\n",
       " (0.2566547812611919, ['Mileage', 'Doors', 'Cruise', 'Leather']),\n",
       " (0.24744913495807552, ['Doors', 'Cruise', 'Sound', 'Leather']),\n",
       " (0.24484643441472975, ['Mileage', 'Cruise', 'Leather']),\n",
       " (0.23464406340531815, ['Cruise', 'Sound', 'Leather']),\n",
       " (0.23336920288580457, ['Mileage', 'Doors', 'Cruise', 'Sound']),\n",
       " (0.23229120295179528, ['Doors', 'Cruise', 'Leather']),\n",
       " (0.22390314076364659, ['Mileage', 'Doors', 'Cruise']),\n",
       " (0.22100420521798445, ['Cruise', 'Leather']),\n",
       " (0.21721656906779274, ['Mileage', 'Cruise', 'Sound']),\n",
       " (0.2093138558315859, ['Mileage', 'Cruise']),\n",
       " (0.20835368888535311, ['Doors', 'Cruise', 'Sound']),\n",
       " (0.1996382468921617, ['Doors', 'Cruise']),\n",
       " (0.19288948066869627, ['Cruise', 'Sound']),\n",
       " (0.1856330092969275, ['Cruise']),\n",
       " (0.089337093793707245, ['Mileage', 'Doors', 'Sound', 'Leather']),\n",
       " (0.069659406224365061, ['Mileage', 'Sound', 'Leather']),\n",
       " (0.066873133161888476, ['Doors', 'Sound', 'Leather']),\n",
       " (0.062563921219876972, ['Mileage', 'Doors', 'Leather']),\n",
       " (0.059250543920426613, ['Mileage', 'Doors', 'Sound']),\n",
       " (0.047953690920827241, ['Sound', 'Leather']),\n",
       " (0.045219563408868568, ['Mileage', 'Leather']),\n",
       " (0.041418173468660391, ['Doors', 'Leather']),\n",
       " (0.040399148671187213, ['Mileage', 'Doors']),\n",
       " (0.037016287709034201, ['Doors', 'Sound']),\n",
       " (0.036881215967350056, ['Mileage', 'Sound']),\n",
       " (0.024710851264124534, ['Leather']),\n",
       " (0.020463447323489481, ['Mileage']),\n",
       " (0.019251466591467259, ['Doors']),\n",
       " (0.015462387624189167, ['Sound'])]"
      ]
     },
     "execution_count": 54,
     "metadata": {},
     "output_type": "execute_result"
    }
   ],
   "source": [
    "# feature_columns = ['Mileage', 'Cylinder', 'Liter', 'Doors', 'Cruise', 'Sound', 'Leather']\n",
    "price = task_2['Price']\n",
    "\n",
    "combinations = [list(itertools.combinations(combo, x)) for x in range(1,7)]\n",
    "massaged_combos = []\n",
    "for lst in combinations:\n",
    "    for iterable in lst:\n",
    "        massaged_combos.append(list(iterable))\n",
    "\n",
    "scores = []\n",
    "for lst in massaged_combos:\n",
    "    regr_cars = linear_model.LinearRegression()\n",
    "    regr_cars.fit(task_2[lst], price)\n",
    "    scores.append((regr_cars.score(task_2[lst], price), lst))\n",
    "\n",
    "sorted(scores, reverse=True)"
   ]
  },
  {
   "cell_type": "markdown",
   "metadata": {
    "collapsed": false
   },
   "source": [
    "As the list showcases, a combination of \n",
    "('Mileage', 'Cylinder', 'Doors', 'Cruise', 'Sound', 'Leather') \n",
    "seem to be the strongest (.44) indicator of price. "
   ]
  },
  {
   "cell_type": "markdown",
   "metadata": {},
   "source": [
    "## Task 3"
   ]
  },
  {
   "cell_type": "code",
   "execution_count": 56,
   "metadata": {
    "collapsed": true
   },
   "outputs": [],
   "source": [
    "dummies_df = pd.read_csv(\"car_data.csv\")"
   ]
  },
  {
   "cell_type": "code",
   "execution_count": 64,
   "metadata": {
    "collapsed": false
   },
   "outputs": [],
   "source": [
    "dummy_make = pd.get_dummies(dummies_df[['Make']])\n",
    "dummy_model = pd.get_dummies(dummies_df[['Model']])\n",
    "dummy_type = pd.get_dummies(dummies_df[['Type']])"
   ]
  },
  {
   "cell_type": "code",
   "execution_count": 72,
   "metadata": {
    "collapsed": false
   },
   "outputs": [
    {
     "data": {
      "text/html": [
       "<div>\n",
       "<table border=\"1\" class=\"dataframe\">\n",
       "  <thead>\n",
       "    <tr style=\"text-align: right;\">\n",
       "      <th></th>\n",
       "      <th>Price</th>\n",
       "      <th>Mileage</th>\n",
       "      <th>Make</th>\n",
       "      <th>Model</th>\n",
       "      <th>Trim</th>\n",
       "      <th>Type</th>\n",
       "      <th>Cylinder</th>\n",
       "      <th>Liter</th>\n",
       "      <th>Doors</th>\n",
       "      <th>Cruise</th>\n",
       "      <th>Sound</th>\n",
       "      <th>Leather</th>\n",
       "    </tr>\n",
       "  </thead>\n",
       "  <tbody>\n",
       "    <tr>\n",
       "      <th>0</th>\n",
       "      <td>17314.103129</td>\n",
       "      <td>8221</td>\n",
       "      <td>Buick</td>\n",
       "      <td>Century</td>\n",
       "      <td>Sedan 4D</td>\n",
       "      <td>Sedan</td>\n",
       "      <td>6</td>\n",
       "      <td>3.1</td>\n",
       "      <td>4</td>\n",
       "      <td>1</td>\n",
       "      <td>1</td>\n",
       "      <td>1</td>\n",
       "    </tr>\n",
       "    <tr>\n",
       "      <th>1</th>\n",
       "      <td>17542.036083</td>\n",
       "      <td>9135</td>\n",
       "      <td>Buick</td>\n",
       "      <td>Century</td>\n",
       "      <td>Sedan 4D</td>\n",
       "      <td>Sedan</td>\n",
       "      <td>6</td>\n",
       "      <td>3.1</td>\n",
       "      <td>4</td>\n",
       "      <td>1</td>\n",
       "      <td>1</td>\n",
       "      <td>0</td>\n",
       "    </tr>\n",
       "    <tr>\n",
       "      <th>2</th>\n",
       "      <td>16218.847862</td>\n",
       "      <td>13196</td>\n",
       "      <td>Buick</td>\n",
       "      <td>Century</td>\n",
       "      <td>Sedan 4D</td>\n",
       "      <td>Sedan</td>\n",
       "      <td>6</td>\n",
       "      <td>3.1</td>\n",
       "      <td>4</td>\n",
       "      <td>1</td>\n",
       "      <td>1</td>\n",
       "      <td>0</td>\n",
       "    </tr>\n",
       "    <tr>\n",
       "      <th>3</th>\n",
       "      <td>16336.913140</td>\n",
       "      <td>16342</td>\n",
       "      <td>Buick</td>\n",
       "      <td>Century</td>\n",
       "      <td>Sedan 4D</td>\n",
       "      <td>Sedan</td>\n",
       "      <td>6</td>\n",
       "      <td>3.1</td>\n",
       "      <td>4</td>\n",
       "      <td>1</td>\n",
       "      <td>0</td>\n",
       "      <td>0</td>\n",
       "    </tr>\n",
       "    <tr>\n",
       "      <th>4</th>\n",
       "      <td>16339.170324</td>\n",
       "      <td>19832</td>\n",
       "      <td>Buick</td>\n",
       "      <td>Century</td>\n",
       "      <td>Sedan 4D</td>\n",
       "      <td>Sedan</td>\n",
       "      <td>6</td>\n",
       "      <td>3.1</td>\n",
       "      <td>4</td>\n",
       "      <td>1</td>\n",
       "      <td>0</td>\n",
       "      <td>1</td>\n",
       "    </tr>\n",
       "  </tbody>\n",
       "</table>\n",
       "</div>"
      ],
      "text/plain": [
       "          Price  Mileage   Make    Model      Trim   Type  Cylinder  Liter  \\\n",
       "0  17314.103129     8221  Buick  Century  Sedan 4D  Sedan         6    3.1   \n",
       "1  17542.036083     9135  Buick  Century  Sedan 4D  Sedan         6    3.1   \n",
       "2  16218.847862    13196  Buick  Century  Sedan 4D  Sedan         6    3.1   \n",
       "3  16336.913140    16342  Buick  Century  Sedan 4D  Sedan         6    3.1   \n",
       "4  16339.170324    19832  Buick  Century  Sedan 4D  Sedan         6    3.1   \n",
       "\n",
       "   Doors  Cruise  Sound  Leather  \n",
       "0      4       1      1        1  \n",
       "1      4       1      1        0  \n",
       "2      4       1      1        0  \n",
       "3      4       1      0        0  \n",
       "4      4       1      0        1  "
      ]
     },
     "execution_count": 72,
     "metadata": {},
     "output_type": "execute_result"
    }
   ],
   "source": [
    "dummies_df.head()"
   ]
  },
  {
   "cell_type": "code",
   "execution_count": 74,
   "metadata": {
    "collapsed": false
   },
   "outputs": [
    {
     "data": {
      "text/html": [
       "<div>\n",
       "<table border=\"1\" class=\"dataframe\">\n",
       "  <thead>\n",
       "    <tr style=\"text-align: right;\">\n",
       "      <th></th>\n",
       "      <th>Type_Convertible</th>\n",
       "      <th>Type_Coupe</th>\n",
       "      <th>Type_Hatchback</th>\n",
       "      <th>Type_Sedan</th>\n",
       "      <th>Type_Wagon</th>\n",
       "    </tr>\n",
       "  </thead>\n",
       "  <tbody>\n",
       "    <tr>\n",
       "      <th>0</th>\n",
       "      <td>0.0</td>\n",
       "      <td>0.0</td>\n",
       "      <td>0.0</td>\n",
       "      <td>1.0</td>\n",
       "      <td>0.0</td>\n",
       "    </tr>\n",
       "    <tr>\n",
       "      <th>1</th>\n",
       "      <td>0.0</td>\n",
       "      <td>0.0</td>\n",
       "      <td>0.0</td>\n",
       "      <td>1.0</td>\n",
       "      <td>0.0</td>\n",
       "    </tr>\n",
       "    <tr>\n",
       "      <th>2</th>\n",
       "      <td>0.0</td>\n",
       "      <td>0.0</td>\n",
       "      <td>0.0</td>\n",
       "      <td>1.0</td>\n",
       "      <td>0.0</td>\n",
       "    </tr>\n",
       "    <tr>\n",
       "      <th>3</th>\n",
       "      <td>0.0</td>\n",
       "      <td>0.0</td>\n",
       "      <td>0.0</td>\n",
       "      <td>1.0</td>\n",
       "      <td>0.0</td>\n",
       "    </tr>\n",
       "    <tr>\n",
       "      <th>4</th>\n",
       "      <td>0.0</td>\n",
       "      <td>0.0</td>\n",
       "      <td>0.0</td>\n",
       "      <td>1.0</td>\n",
       "      <td>0.0</td>\n",
       "    </tr>\n",
       "    <tr>\n",
       "      <th>5</th>\n",
       "      <td>0.0</td>\n",
       "      <td>0.0</td>\n",
       "      <td>0.0</td>\n",
       "      <td>1.0</td>\n",
       "      <td>0.0</td>\n",
       "    </tr>\n",
       "    <tr>\n",
       "      <th>6</th>\n",
       "      <td>0.0</td>\n",
       "      <td>0.0</td>\n",
       "      <td>0.0</td>\n",
       "      <td>1.0</td>\n",
       "      <td>0.0</td>\n",
       "    </tr>\n",
       "    <tr>\n",
       "      <th>7</th>\n",
       "      <td>0.0</td>\n",
       "      <td>0.0</td>\n",
       "      <td>0.0</td>\n",
       "      <td>1.0</td>\n",
       "      <td>0.0</td>\n",
       "    </tr>\n",
       "    <tr>\n",
       "      <th>8</th>\n",
       "      <td>0.0</td>\n",
       "      <td>0.0</td>\n",
       "      <td>0.0</td>\n",
       "      <td>1.0</td>\n",
       "      <td>0.0</td>\n",
       "    </tr>\n",
       "    <tr>\n",
       "      <th>9</th>\n",
       "      <td>0.0</td>\n",
       "      <td>0.0</td>\n",
       "      <td>0.0</td>\n",
       "      <td>1.0</td>\n",
       "      <td>0.0</td>\n",
       "    </tr>\n",
       "    <tr>\n",
       "      <th>10</th>\n",
       "      <td>0.0</td>\n",
       "      <td>0.0</td>\n",
       "      <td>0.0</td>\n",
       "      <td>1.0</td>\n",
       "      <td>0.0</td>\n",
       "    </tr>\n",
       "    <tr>\n",
       "      <th>11</th>\n",
       "      <td>0.0</td>\n",
       "      <td>0.0</td>\n",
       "      <td>0.0</td>\n",
       "      <td>1.0</td>\n",
       "      <td>0.0</td>\n",
       "    </tr>\n",
       "    <tr>\n",
       "      <th>12</th>\n",
       "      <td>0.0</td>\n",
       "      <td>0.0</td>\n",
       "      <td>0.0</td>\n",
       "      <td>1.0</td>\n",
       "      <td>0.0</td>\n",
       "    </tr>\n",
       "    <tr>\n",
       "      <th>13</th>\n",
       "      <td>0.0</td>\n",
       "      <td>0.0</td>\n",
       "      <td>0.0</td>\n",
       "      <td>1.0</td>\n",
       "      <td>0.0</td>\n",
       "    </tr>\n",
       "    <tr>\n",
       "      <th>14</th>\n",
       "      <td>0.0</td>\n",
       "      <td>0.0</td>\n",
       "      <td>0.0</td>\n",
       "      <td>1.0</td>\n",
       "      <td>0.0</td>\n",
       "    </tr>\n",
       "    <tr>\n",
       "      <th>15</th>\n",
       "      <td>0.0</td>\n",
       "      <td>0.0</td>\n",
       "      <td>0.0</td>\n",
       "      <td>1.0</td>\n",
       "      <td>0.0</td>\n",
       "    </tr>\n",
       "    <tr>\n",
       "      <th>16</th>\n",
       "      <td>0.0</td>\n",
       "      <td>0.0</td>\n",
       "      <td>0.0</td>\n",
       "      <td>1.0</td>\n",
       "      <td>0.0</td>\n",
       "    </tr>\n",
       "    <tr>\n",
       "      <th>17</th>\n",
       "      <td>0.0</td>\n",
       "      <td>0.0</td>\n",
       "      <td>0.0</td>\n",
       "      <td>1.0</td>\n",
       "      <td>0.0</td>\n",
       "    </tr>\n",
       "    <tr>\n",
       "      <th>18</th>\n",
       "      <td>0.0</td>\n",
       "      <td>0.0</td>\n",
       "      <td>0.0</td>\n",
       "      <td>1.0</td>\n",
       "      <td>0.0</td>\n",
       "    </tr>\n",
       "    <tr>\n",
       "      <th>19</th>\n",
       "      <td>0.0</td>\n",
       "      <td>0.0</td>\n",
       "      <td>0.0</td>\n",
       "      <td>1.0</td>\n",
       "      <td>0.0</td>\n",
       "    </tr>\n",
       "    <tr>\n",
       "      <th>20</th>\n",
       "      <td>0.0</td>\n",
       "      <td>0.0</td>\n",
       "      <td>0.0</td>\n",
       "      <td>1.0</td>\n",
       "      <td>0.0</td>\n",
       "    </tr>\n",
       "    <tr>\n",
       "      <th>21</th>\n",
       "      <td>0.0</td>\n",
       "      <td>0.0</td>\n",
       "      <td>0.0</td>\n",
       "      <td>1.0</td>\n",
       "      <td>0.0</td>\n",
       "    </tr>\n",
       "    <tr>\n",
       "      <th>22</th>\n",
       "      <td>0.0</td>\n",
       "      <td>0.0</td>\n",
       "      <td>0.0</td>\n",
       "      <td>1.0</td>\n",
       "      <td>0.0</td>\n",
       "    </tr>\n",
       "    <tr>\n",
       "      <th>23</th>\n",
       "      <td>0.0</td>\n",
       "      <td>0.0</td>\n",
       "      <td>0.0</td>\n",
       "      <td>1.0</td>\n",
       "      <td>0.0</td>\n",
       "    </tr>\n",
       "    <tr>\n",
       "      <th>24</th>\n",
       "      <td>0.0</td>\n",
       "      <td>0.0</td>\n",
       "      <td>0.0</td>\n",
       "      <td>1.0</td>\n",
       "      <td>0.0</td>\n",
       "    </tr>\n",
       "    <tr>\n",
       "      <th>25</th>\n",
       "      <td>0.0</td>\n",
       "      <td>0.0</td>\n",
       "      <td>0.0</td>\n",
       "      <td>1.0</td>\n",
       "      <td>0.0</td>\n",
       "    </tr>\n",
       "    <tr>\n",
       "      <th>26</th>\n",
       "      <td>0.0</td>\n",
       "      <td>0.0</td>\n",
       "      <td>0.0</td>\n",
       "      <td>1.0</td>\n",
       "      <td>0.0</td>\n",
       "    </tr>\n",
       "    <tr>\n",
       "      <th>27</th>\n",
       "      <td>0.0</td>\n",
       "      <td>0.0</td>\n",
       "      <td>0.0</td>\n",
       "      <td>1.0</td>\n",
       "      <td>0.0</td>\n",
       "    </tr>\n",
       "    <tr>\n",
       "      <th>28</th>\n",
       "      <td>0.0</td>\n",
       "      <td>0.0</td>\n",
       "      <td>0.0</td>\n",
       "      <td>1.0</td>\n",
       "      <td>0.0</td>\n",
       "    </tr>\n",
       "    <tr>\n",
       "      <th>29</th>\n",
       "      <td>0.0</td>\n",
       "      <td>0.0</td>\n",
       "      <td>0.0</td>\n",
       "      <td>1.0</td>\n",
       "      <td>0.0</td>\n",
       "    </tr>\n",
       "    <tr>\n",
       "      <th>...</th>\n",
       "      <td>...</td>\n",
       "      <td>...</td>\n",
       "      <td>...</td>\n",
       "      <td>...</td>\n",
       "      <td>...</td>\n",
       "    </tr>\n",
       "    <tr>\n",
       "      <th>774</th>\n",
       "      <td>0.0</td>\n",
       "      <td>0.0</td>\n",
       "      <td>0.0</td>\n",
       "      <td>1.0</td>\n",
       "      <td>0.0</td>\n",
       "    </tr>\n",
       "    <tr>\n",
       "      <th>775</th>\n",
       "      <td>0.0</td>\n",
       "      <td>0.0</td>\n",
       "      <td>0.0</td>\n",
       "      <td>1.0</td>\n",
       "      <td>0.0</td>\n",
       "    </tr>\n",
       "    <tr>\n",
       "      <th>776</th>\n",
       "      <td>0.0</td>\n",
       "      <td>0.0</td>\n",
       "      <td>0.0</td>\n",
       "      <td>1.0</td>\n",
       "      <td>0.0</td>\n",
       "    </tr>\n",
       "    <tr>\n",
       "      <th>777</th>\n",
       "      <td>0.0</td>\n",
       "      <td>0.0</td>\n",
       "      <td>0.0</td>\n",
       "      <td>1.0</td>\n",
       "      <td>0.0</td>\n",
       "    </tr>\n",
       "    <tr>\n",
       "      <th>778</th>\n",
       "      <td>0.0</td>\n",
       "      <td>0.0</td>\n",
       "      <td>0.0</td>\n",
       "      <td>1.0</td>\n",
       "      <td>0.0</td>\n",
       "    </tr>\n",
       "    <tr>\n",
       "      <th>779</th>\n",
       "      <td>0.0</td>\n",
       "      <td>0.0</td>\n",
       "      <td>0.0</td>\n",
       "      <td>1.0</td>\n",
       "      <td>0.0</td>\n",
       "    </tr>\n",
       "    <tr>\n",
       "      <th>780</th>\n",
       "      <td>0.0</td>\n",
       "      <td>0.0</td>\n",
       "      <td>0.0</td>\n",
       "      <td>1.0</td>\n",
       "      <td>0.0</td>\n",
       "    </tr>\n",
       "    <tr>\n",
       "      <th>781</th>\n",
       "      <td>0.0</td>\n",
       "      <td>0.0</td>\n",
       "      <td>0.0</td>\n",
       "      <td>1.0</td>\n",
       "      <td>0.0</td>\n",
       "    </tr>\n",
       "    <tr>\n",
       "      <th>782</th>\n",
       "      <td>0.0</td>\n",
       "      <td>0.0</td>\n",
       "      <td>0.0</td>\n",
       "      <td>1.0</td>\n",
       "      <td>0.0</td>\n",
       "    </tr>\n",
       "    <tr>\n",
       "      <th>783</th>\n",
       "      <td>0.0</td>\n",
       "      <td>0.0</td>\n",
       "      <td>0.0</td>\n",
       "      <td>1.0</td>\n",
       "      <td>0.0</td>\n",
       "    </tr>\n",
       "    <tr>\n",
       "      <th>784</th>\n",
       "      <td>0.0</td>\n",
       "      <td>0.0</td>\n",
       "      <td>0.0</td>\n",
       "      <td>1.0</td>\n",
       "      <td>0.0</td>\n",
       "    </tr>\n",
       "    <tr>\n",
       "      <th>785</th>\n",
       "      <td>0.0</td>\n",
       "      <td>0.0</td>\n",
       "      <td>0.0</td>\n",
       "      <td>1.0</td>\n",
       "      <td>0.0</td>\n",
       "    </tr>\n",
       "    <tr>\n",
       "      <th>786</th>\n",
       "      <td>0.0</td>\n",
       "      <td>0.0</td>\n",
       "      <td>0.0</td>\n",
       "      <td>1.0</td>\n",
       "      <td>0.0</td>\n",
       "    </tr>\n",
       "    <tr>\n",
       "      <th>787</th>\n",
       "      <td>0.0</td>\n",
       "      <td>0.0</td>\n",
       "      <td>0.0</td>\n",
       "      <td>1.0</td>\n",
       "      <td>0.0</td>\n",
       "    </tr>\n",
       "    <tr>\n",
       "      <th>788</th>\n",
       "      <td>0.0</td>\n",
       "      <td>0.0</td>\n",
       "      <td>0.0</td>\n",
       "      <td>1.0</td>\n",
       "      <td>0.0</td>\n",
       "    </tr>\n",
       "    <tr>\n",
       "      <th>789</th>\n",
       "      <td>0.0</td>\n",
       "      <td>0.0</td>\n",
       "      <td>0.0</td>\n",
       "      <td>1.0</td>\n",
       "      <td>0.0</td>\n",
       "    </tr>\n",
       "    <tr>\n",
       "      <th>790</th>\n",
       "      <td>0.0</td>\n",
       "      <td>0.0</td>\n",
       "      <td>0.0</td>\n",
       "      <td>1.0</td>\n",
       "      <td>0.0</td>\n",
       "    </tr>\n",
       "    <tr>\n",
       "      <th>791</th>\n",
       "      <td>0.0</td>\n",
       "      <td>0.0</td>\n",
       "      <td>0.0</td>\n",
       "      <td>1.0</td>\n",
       "      <td>0.0</td>\n",
       "    </tr>\n",
       "    <tr>\n",
       "      <th>792</th>\n",
       "      <td>0.0</td>\n",
       "      <td>0.0</td>\n",
       "      <td>0.0</td>\n",
       "      <td>1.0</td>\n",
       "      <td>0.0</td>\n",
       "    </tr>\n",
       "    <tr>\n",
       "      <th>793</th>\n",
       "      <td>0.0</td>\n",
       "      <td>0.0</td>\n",
       "      <td>0.0</td>\n",
       "      <td>1.0</td>\n",
       "      <td>0.0</td>\n",
       "    </tr>\n",
       "    <tr>\n",
       "      <th>794</th>\n",
       "      <td>0.0</td>\n",
       "      <td>0.0</td>\n",
       "      <td>0.0</td>\n",
       "      <td>1.0</td>\n",
       "      <td>0.0</td>\n",
       "    </tr>\n",
       "    <tr>\n",
       "      <th>795</th>\n",
       "      <td>0.0</td>\n",
       "      <td>0.0</td>\n",
       "      <td>0.0</td>\n",
       "      <td>1.0</td>\n",
       "      <td>0.0</td>\n",
       "    </tr>\n",
       "    <tr>\n",
       "      <th>796</th>\n",
       "      <td>0.0</td>\n",
       "      <td>0.0</td>\n",
       "      <td>0.0</td>\n",
       "      <td>1.0</td>\n",
       "      <td>0.0</td>\n",
       "    </tr>\n",
       "    <tr>\n",
       "      <th>797</th>\n",
       "      <td>0.0</td>\n",
       "      <td>0.0</td>\n",
       "      <td>0.0</td>\n",
       "      <td>1.0</td>\n",
       "      <td>0.0</td>\n",
       "    </tr>\n",
       "    <tr>\n",
       "      <th>798</th>\n",
       "      <td>0.0</td>\n",
       "      <td>0.0</td>\n",
       "      <td>0.0</td>\n",
       "      <td>1.0</td>\n",
       "      <td>0.0</td>\n",
       "    </tr>\n",
       "    <tr>\n",
       "      <th>799</th>\n",
       "      <td>0.0</td>\n",
       "      <td>0.0</td>\n",
       "      <td>0.0</td>\n",
       "      <td>1.0</td>\n",
       "      <td>0.0</td>\n",
       "    </tr>\n",
       "    <tr>\n",
       "      <th>800</th>\n",
       "      <td>0.0</td>\n",
       "      <td>0.0</td>\n",
       "      <td>0.0</td>\n",
       "      <td>1.0</td>\n",
       "      <td>0.0</td>\n",
       "    </tr>\n",
       "    <tr>\n",
       "      <th>801</th>\n",
       "      <td>0.0</td>\n",
       "      <td>0.0</td>\n",
       "      <td>0.0</td>\n",
       "      <td>1.0</td>\n",
       "      <td>0.0</td>\n",
       "    </tr>\n",
       "    <tr>\n",
       "      <th>802</th>\n",
       "      <td>0.0</td>\n",
       "      <td>0.0</td>\n",
       "      <td>0.0</td>\n",
       "      <td>1.0</td>\n",
       "      <td>0.0</td>\n",
       "    </tr>\n",
       "    <tr>\n",
       "      <th>803</th>\n",
       "      <td>0.0</td>\n",
       "      <td>0.0</td>\n",
       "      <td>0.0</td>\n",
       "      <td>1.0</td>\n",
       "      <td>0.0</td>\n",
       "    </tr>\n",
       "  </tbody>\n",
       "</table>\n",
       "<p>804 rows × 5 columns</p>\n",
       "</div>"
      ],
      "text/plain": [
       "     Type_Convertible  Type_Coupe  Type_Hatchback  Type_Sedan  Type_Wagon\n",
       "0                 0.0         0.0             0.0         1.0         0.0\n",
       "1                 0.0         0.0             0.0         1.0         0.0\n",
       "2                 0.0         0.0             0.0         1.0         0.0\n",
       "3                 0.0         0.0             0.0         1.0         0.0\n",
       "4                 0.0         0.0             0.0         1.0         0.0\n",
       "5                 0.0         0.0             0.0         1.0         0.0\n",
       "6                 0.0         0.0             0.0         1.0         0.0\n",
       "7                 0.0         0.0             0.0         1.0         0.0\n",
       "8                 0.0         0.0             0.0         1.0         0.0\n",
       "9                 0.0         0.0             0.0         1.0         0.0\n",
       "10                0.0         0.0             0.0         1.0         0.0\n",
       "11                0.0         0.0             0.0         1.0         0.0\n",
       "12                0.0         0.0             0.0         1.0         0.0\n",
       "13                0.0         0.0             0.0         1.0         0.0\n",
       "14                0.0         0.0             0.0         1.0         0.0\n",
       "15                0.0         0.0             0.0         1.0         0.0\n",
       "16                0.0         0.0             0.0         1.0         0.0\n",
       "17                0.0         0.0             0.0         1.0         0.0\n",
       "18                0.0         0.0             0.0         1.0         0.0\n",
       "19                0.0         0.0             0.0         1.0         0.0\n",
       "20                0.0         0.0             0.0         1.0         0.0\n",
       "21                0.0         0.0             0.0         1.0         0.0\n",
       "22                0.0         0.0             0.0         1.0         0.0\n",
       "23                0.0         0.0             0.0         1.0         0.0\n",
       "24                0.0         0.0             0.0         1.0         0.0\n",
       "25                0.0         0.0             0.0         1.0         0.0\n",
       "26                0.0         0.0             0.0         1.0         0.0\n",
       "27                0.0         0.0             0.0         1.0         0.0\n",
       "28                0.0         0.0             0.0         1.0         0.0\n",
       "29                0.0         0.0             0.0         1.0         0.0\n",
       "..                ...         ...             ...         ...         ...\n",
       "774               0.0         0.0             0.0         1.0         0.0\n",
       "775               0.0         0.0             0.0         1.0         0.0\n",
       "776               0.0         0.0             0.0         1.0         0.0\n",
       "777               0.0         0.0             0.0         1.0         0.0\n",
       "778               0.0         0.0             0.0         1.0         0.0\n",
       "779               0.0         0.0             0.0         1.0         0.0\n",
       "780               0.0         0.0             0.0         1.0         0.0\n",
       "781               0.0         0.0             0.0         1.0         0.0\n",
       "782               0.0         0.0             0.0         1.0         0.0\n",
       "783               0.0         0.0             0.0         1.0         0.0\n",
       "784               0.0         0.0             0.0         1.0         0.0\n",
       "785               0.0         0.0             0.0         1.0         0.0\n",
       "786               0.0         0.0             0.0         1.0         0.0\n",
       "787               0.0         0.0             0.0         1.0         0.0\n",
       "788               0.0         0.0             0.0         1.0         0.0\n",
       "789               0.0         0.0             0.0         1.0         0.0\n",
       "790               0.0         0.0             0.0         1.0         0.0\n",
       "791               0.0         0.0             0.0         1.0         0.0\n",
       "792               0.0         0.0             0.0         1.0         0.0\n",
       "793               0.0         0.0             0.0         1.0         0.0\n",
       "794               0.0         0.0             0.0         1.0         0.0\n",
       "795               0.0         0.0             0.0         1.0         0.0\n",
       "796               0.0         0.0             0.0         1.0         0.0\n",
       "797               0.0         0.0             0.0         1.0         0.0\n",
       "798               0.0         0.0             0.0         1.0         0.0\n",
       "799               0.0         0.0             0.0         1.0         0.0\n",
       "800               0.0         0.0             0.0         1.0         0.0\n",
       "801               0.0         0.0             0.0         1.0         0.0\n",
       "802               0.0         0.0             0.0         1.0         0.0\n",
       "803               0.0         0.0             0.0         1.0         0.0\n",
       "\n",
       "[804 rows x 5 columns]"
      ]
     },
     "execution_count": 74,
     "metadata": {},
     "output_type": "execute_result"
    }
   ],
   "source": [
    "dummy_type"
   ]
  },
  {
   "cell_type": "code",
   "execution_count": null,
   "metadata": {
    "collapsed": true
   },
   "outputs": [],
   "source": []
  },
  {
   "cell_type": "code",
   "execution_count": null,
   "metadata": {
    "collapsed": false
   },
   "outputs": [],
   "source": []
  },
  {
   "cell_type": "code",
   "execution_count": null,
   "metadata": {
    "collapsed": false
   },
   "outputs": [],
   "source": []
  },
  {
   "cell_type": "code",
   "execution_count": null,
   "metadata": {
    "collapsed": true
   },
   "outputs": [],
   "source": []
  }
 ],
 "metadata": {
  "kernelspec": {
   "display_name": "Python 3",
   "language": "python",
   "name": "python3"
  },
  "language_info": {
   "codemirror_mode": {
    "name": "ipython",
    "version": 3
   },
   "file_extension": ".py",
   "mimetype": "text/x-python",
   "name": "python",
   "nbconvert_exporter": "python",
   "pygments_lexer": "ipython3",
   "version": "3.5.1"
  }
 },
 "nbformat": 4,
 "nbformat_minor": 0
}
